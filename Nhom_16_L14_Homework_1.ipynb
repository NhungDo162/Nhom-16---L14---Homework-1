{
  "cells": [
    {
      "cell_type": "markdown",
      "metadata": {
        "id": "DrJUq-PXF8HU"
      },
      "source": [
        "# **Thành viên NHÓM 1:**\n",
        "\n",
        "1. Dương Thị Diễm Hương - 050608200211\n",
        "2. Đỗ Thị Hồng Nhung - 050608200537\n",
        "3. Đinh Thị Như Quỳnh - 030336200224\n",
        "\n",
        "\n",
        "\n",
        "\n",
        "\n",
        "\n"
      ]
    },
    {
      "cell_type": "markdown",
      "metadata": {
        "id": "n3zIMCNeSfoe"
      },
      "source": [
        "# SET UP"
      ]
    },
    {
      "cell_type": "code",
      "execution_count": 28,
      "metadata": {
        "colab": {
          "base_uri": "https://localhost:8080/",
          "height": 17
        },
        "id": "XyidF5CZpDLY",
        "outputId": "3fecf2ac-0b4a-4221-a68b-8efcc5c01196"
      },
      "outputs": [
        {
          "output_type": "display_data",
          "data": {
            "text/plain": [
              "<IPython.core.display.Javascript object>"
            ],
            "application/javascript": [
              "google.colab.output.setIframeHeight(0, true, {maxHeight: 400})"
            ]
          },
          "metadata": {}
        }
      ],
      "source": [
        "%%capture\n",
        "!pip install pyspark\n",
        "!pip install -U -q PyDrive\n",
        "!apt install openjdk-8-jdk-headless -qq\n",
        "import os\n",
        "os.environ[\"JAVA_HOME\"] = \"/usr/lib/jvm/java-8-openjdk-amd64\""
      ]
    },
    {
      "cell_type": "code",
      "execution_count": 2,
      "metadata": {
        "id": "_qVvc4pvvJ8s"
      },
      "outputs": [],
      "source": [
        "from pydrive.auth import GoogleAuth\n",
        "from pydrive.drive import GoogleDrive\n",
        "from google.colab import auth\n",
        "from oauth2client.client import GoogleCredentials\n",
        "\n",
        "# Authenticate and create the PyDrive client\n",
        "auth.authenticate_user()\n",
        "gauth = GoogleAuth()\n",
        "gauth.credentials = GoogleCredentials.get_application_default()\n",
        "drive = GoogleDrive(gauth)\n",
        "     "
      ]
    },
    {
      "cell_type": "code",
      "execution_count": 3,
      "metadata": {
        "colab": {
          "base_uri": "https://localhost:8080/"
        },
        "id": "E9RW6NBOvTm-",
        "outputId": "1fe2dab8-5e27-47cf-fe46-d927b47decec"
      },
      "outputs": [
        {
          "output_type": "stream",
          "name": "stdout",
          "text": [
            "Mounted at /content/drive\n"
          ]
        }
      ],
      "source": [
        "from google.colab import drive\n",
        "drive.mount('/content/drive')\n",
        "# Avoids scroll-in-the-scroll in the entire Notebook\n",
        "from IPython.display import Javascript\n",
        "def resize_colab_cell():\n",
        "  display(Javascript('google.colab.output.setIframeHeight(0, true, {maxHeight: 400})'))\n",
        "get_ipython().events.register('pre_run_cell', resize_colab_cell)"
      ]
    },
    {
      "cell_type": "code",
      "execution_count": 4,
      "metadata": {
        "colab": {
          "base_uri": "https://localhost:8080/",
          "height": 295
        },
        "id": "hlOQSA5Evr_c",
        "outputId": "0f4b791a-524b-48bc-ca67-183349f19270"
      },
      "outputs": [
        {
          "output_type": "display_data",
          "data": {
            "text/plain": [
              "<IPython.core.display.Javascript object>"
            ],
            "application/javascript": [
              "google.colab.output.setIframeHeight(0, true, {maxHeight: 400})"
            ]
          },
          "metadata": {}
        },
        {
          "output_type": "stream",
          "name": "stdout",
          "text": [
            "--2023-04-02 16:29:00--  https://bin.equinox.io/c/4VmDzA7iaHb/ngrok-stable-linux-amd64.zip\n",
            "Resolving bin.equinox.io (bin.equinox.io)... 54.161.241.46, 18.205.222.128, 52.202.168.65, ...\n",
            "Connecting to bin.equinox.io (bin.equinox.io)|54.161.241.46|:443... connected.\n",
            "HTTP request sent, awaiting response... 200 OK\n",
            "Length: 13921656 (13M) [application/octet-stream]\n",
            "Saving to: ‘ngrok-stable-linux-amd64.zip’\n",
            "\n",
            "ngrok-stable-linux- 100%[===================>]  13.28M  19.5MB/s    in 0.7s    \n",
            "\n",
            "2023-04-02 16:29:01 (19.5 MB/s) - ‘ngrok-stable-linux-amd64.zip’ saved [13921656/13921656]\n",
            "\n",
            "Archive:  ngrok-stable-linux-amd64.zip\n",
            "  inflating: ngrok                   \n",
            "Traceback (most recent call last):\n",
            "  File \"<string>\", line 1, in <module>\n",
            "IndexError: list index out of range\n"
          ]
        }
      ],
      "source": [
        "!wget https://bin.equinox.io/c/4VmDzA7iaHb/ngrok-stable-linux-amd64.zip\n",
        "!unzip ngrok-stable-linux-amd64.zip\n",
        "get_ipython().system_raw('./ngrok http 4050 &')\n",
        "!curl -s http://localhost:4040/api/tunnels | python3 -c \\\n",
        "    \"import sys, json; print(json.load(sys.stdin)['tunnels'][0]['public_url'])\""
      ]
    },
    {
      "cell_type": "code",
      "execution_count": 5,
      "metadata": {
        "id": "KiYMu2KkdWgQ",
        "colab": {
          "base_uri": "https://localhost:8080/",
          "height": 17
        },
        "outputId": "144fcecd-71b6-444d-8338-f333654a830a"
      },
      "outputs": [
        {
          "output_type": "display_data",
          "data": {
            "text/plain": [
              "<IPython.core.display.Javascript object>"
            ],
            "application/javascript": [
              "google.colab.output.setIframeHeight(0, true, {maxHeight: 400})"
            ]
          },
          "metadata": {}
        }
      ],
      "source": [
        "import pandas as pd\n",
        "import numpy as np\n",
        "import matplotlib.pyplot as plt\n",
        "import itertools\n",
        "%matplotlib inline\n",
        "import pyspark\n",
        "from pyspark.sql import *\n",
        "from pyspark.sql.functions import *\n",
        "from pyspark import SparkContext, SparkConf\n",
        "# create the session\n",
        "conf = SparkConf().set(\"spark.ui.port\", \"4050\")\n",
        "# create the context\n",
        "sc = pyspark.SparkContext(conf=conf)\n",
        "spark = SparkSession.builder.getOrCreate()"
      ]
    },
    {
      "cell_type": "markdown",
      "metadata": {
        "id": "Gk6QyXsOSmXV"
      },
      "source": [
        "\n",
        "\n",
        "\n",
        "# QUESTION 1: SPARK"
      ]
    },
    {
      "cell_type": "code",
      "execution_count": 6,
      "metadata": {
        "colab": {
          "base_uri": "https://localhost:8080/",
          "height": 17
        },
        "id": "r7lP4s2-vxEm",
        "outputId": "b44aa58a-4f0d-423d-f15d-41920856c466"
      },
      "outputs": [
        {
          "output_type": "display_data",
          "data": {
            "text/plain": [
              "<IPython.core.display.Javascript object>"
            ],
            "application/javascript": [
              "google.colab.output.setIframeHeight(0, true, {maxHeight: 400})"
            ]
          },
          "metadata": {}
        }
      ],
      "source": [
        "def line_to_friend_ownership(line):\n",
        "    split = line.split()\n",
        "    user_id = int(split[0])\n",
        "    if len(split) == 1:\n",
        "        friends = []\n",
        "    else:\n",
        "        friends = list(map(lambda x: int(x), split[1].split(',')))\n",
        "    return user_id, friends\n",
        "\n",
        "def friend_ownership_to_connection(f_o):\n",
        "    user_id = f_o[0]\n",
        "    friends = f_o[1]\n",
        "    connections = []\n",
        "    for friend_id in friends:\n",
        "        key = (user_id, friend_id)\n",
        "        if user_id > friend_id:\n",
        "            key = (friend_id, user_id)\n",
        "        connections.append((key, 0))  # they are friends, value=0\n",
        "    for friend_pair in itertools.combinations(friends, 2):\n",
        "        friend_0 = friend_pair[0]\n",
        "        friend_1 = friend_pair[1]\n",
        "        key = (friend_0, friend_1)\n",
        "        if friend_0 > friend_1:\n",
        "            key = (friend_1, friend_0)\n",
        "        connections.append((key, 1))  # they have mutual friends, value=1\n",
        "    return connections\n",
        "\n",
        "def mutual_friend_count_to_recommendation(f):\n",
        "    pair = f[0]\n",
        "    friend0 = pair[0]\n",
        "    friend1 = pair[1]\n",
        "    noMutFriends = f[1]\n",
        "    rec0 = (friend0, (friend1, noMutFriends))\n",
        "    rec1 = (friend1, (friend0, noMutFriends))\n",
        "    return [rec0, rec1]\n",
        "\n",
        "def recommendation_to_sorted_truncated(recs):\n",
        "    recs.sort(key=lambda x: (-x[1], x[0]))\n",
        "    return list(map(lambda x: x[0], recs))[:10]\n",
        "     "
      ]
    },
    {
      "cell_type": "code",
      "execution_count": 7,
      "metadata": {
        "colab": {
          "base_uri": "https://localhost:8080/",
          "height": 17
        },
        "id": "YtzxT0NcBg43",
        "outputId": "eb8dc4b8-e141-4035-fb3a-563489a5591e"
      },
      "outputs": [
        {
          "output_type": "display_data",
          "data": {
            "text/plain": [
              "<IPython.core.display.Javascript object>"
            ],
            "application/javascript": [
              "google.colab.output.setIframeHeight(0, true, {maxHeight: 400})"
            ]
          },
          "metadata": {}
        }
      ],
      "source": [
        "# Read from text file \n",
        "lines = sc.textFile(\"/content/drive/MyDrive/soc-LiveJournal1Adj.txt\")\n",
        "\n",
        "# Map each line to the form: (user_id, [friend_id_0, friend_id_1, ...])\n",
        "friend_ownership = lines.map(line_to_friend_ownership).filter(lambda friend: '' != friend[1])#.filter(lambda friend: 1000> friend[0]) #take 1000 samples for testing\n",
        "\n",
        "# Map friend ownerships to instances of ((user_id, friend_id), VALUE).\n",
        "# VALUE = 0 => pairs are already friends.\n",
        "# VALUE = 1 => pairs have mutual friends.\n",
        "friend_edges = friend_ownership.flatMap(friend_ownership_to_connection)\n",
        "friend_edges.cache()\n",
        "\n",
        "# Filter pairs that are already friends\n",
        "mutual_friend = friend_edges.groupByKey() \\\n",
        "    .filter(lambda edge: 0 not in edge[1]) \\\n",
        "    .flatMap(lambda x: [(x[0],item) for item in x[1]]) # flat it to count total mutual friends No; use map directly causes bugs\n",
        "\n",
        "# Count mutual friends by adding up values\n",
        "mutual_friend_counts = mutual_friend.reduceByKey( lambda x,y : x+y)\n",
        "\n",
        "# Create the recommendation objects, group them by key, then sort and \n",
        "recommendations = mutual_friend_counts.flatMap(mutual_friend_count_to_recommendation).groupByKey() \n",
        "\n",
        "# Truncate the recommendations to the 10 most highly recommended.\n",
        "recommendations10 = recommendations.map(lambda m: (m[0], recommendation_to_sorted_truncated(list(m[1])))).sortByKey() \n",
        "\n",
        "# Include in your writeup the recommendations for the users with following user IDs: 924, 8941, 8942, 9019, 9020, 9021, 9022, 9990, 9992, 9993.\n",
        "results = recommendations10.filter(lambda recommendations: recommendations[0] in [924, 8941, 8942, 9019, 9020, 9021, 9022, 9990, 9992, 9993])\n"
      ]
    },
    {
      "cell_type": "code",
      "execution_count": 8,
      "metadata": {
        "id": "PffyC02NBfoD",
        "colab": {
          "base_uri": "https://localhost:8080/",
          "height": 191
        },
        "outputId": "c801e876-c963-4118-82ed-6e11a0030686"
      },
      "outputs": [
        {
          "output_type": "display_data",
          "data": {
            "text/plain": [
              "<IPython.core.display.Javascript object>"
            ],
            "application/javascript": [
              "google.colab.output.setIframeHeight(0, true, {maxHeight: 400})"
            ]
          },
          "metadata": {}
        },
        {
          "output_type": "execute_result",
          "data": {
            "text/plain": [
              "[(924, [439, 2409, 6995, 11860, 15416, 43748, 45881]),\n",
              " (8941, [8943, 8944, 8940]),\n",
              " (8942, [8939, 8940, 8943, 8944]),\n",
              " (9019, [9022, 317, 9023]),\n",
              " (9020, [9021, 9016, 9017, 9022, 317, 9023]),\n",
              " (9021, [9020, 9016, 9017, 9022, 317, 9023]),\n",
              " (9022, [9019, 9020, 9021, 317, 9016, 9017, 9023]),\n",
              " (9990, [13134, 13478, 13877, 34299, 34485, 34642, 37941]),\n",
              " (9992, [9987, 9989, 35667, 9991]),\n",
              " (9993, [9991, 13134, 13478, 13877, 34299, 34485, 34642, 37941])]"
            ]
          },
          "metadata": {},
          "execution_count": 8
        }
      ],
      "source": [
        "    results.collect()"
      ]
    },
    {
      "cell_type": "markdown",
      "metadata": {
        "id": "xCsEttXRk-JT"
      },
      "source": [
        "# QUESTION 2: ASSOCIATION RULES"
      ]
    },
    {
      "cell_type": "markdown",
      "metadata": {
        "id": "SFAUzcyjjCUl"
      },
      "source": [
        " **(a)** \n",
        "\n",
        "Nhược điểm của việc sử dụng chỉ tiêu độ tin cậy (confidence) là nó không xem xét xác suất cơ sở của việc B xảy ra khi không có A. Điều này có thể gây vấn đề bởi vì giá trị độ tin cậy cao có thể được đạt được ngay cả đối với các tập hợp phần tử có tần suất thấp trong tập dữ liệu. Ví dụ, nếu phần tử A xảy ra hiếm khi, và phần tử B xảy ra với A chỉ do sự tình cờ, thì conf(A → B) có thể rất cao, dẫn đến thuật toán tin tưởng rằng mối liên hệ là mạnh mẽ khi thực tế là yếu.\n",
        "\n",
        "\n",
        "Tuy nhiên, chỉ tiêu tăng trưởng (lift) và chỉ số thuyết phục (conviction) không gặp nhược điểm này vì chúng tính đến tần suất tổng thể của B. Chỉ số tăng trưởng tính đến tần suất của B bằng cách đo lường sự khác biệt so với sự độc lập thống kê, trong khi chỉ số thuyết phục đo lường tần suất A xuất hiện mà không có B bằng cách so sánh nó với tần suất mong đợi được tính dựa trên tần suất tổng thể của B. Cả hai chỉ tiêu này cung cấp một đánh giá chính xác hơn về sức mạnh của mối liên hệ giữa các tập hợp phần tử hơn chỉ tiêu độ tin cậy đơn lẻ."
      ]
    },
    {
      "cell_type": "markdown",
      "metadata": {
        "id": "6VmNTGFJlhXC"
      },
      "source": [
        "**(b)**\n",
        "\n",
        "Trong các chỉ tiêu được giới thiệu ở đây, chỉ số tăng trưởng (lift) là không đối xứng.\n",
        "\n",
        "Để chứng minh rằng độ tin cậy (confidence) và chỉ số thuyết phục (conviction) là các chỉ tiêu đối xứng:\n",
        "\n",
        "Độ tin cậy:\n",
        "\n",
        "*   conf(A → B) = Pr(B|A) = Pr(A|B) * Pr(B) / Pr(A) (định lý Bayes)\n",
        "*   conf(B → A) = Pr(A|B) = Pr(B|A) * Pr(A) / Pr(B)\n",
        "*   Do đó, conf(A → B) = conf(B → A)\n",
        "\n",
        "Chỉ cố thuyết phục:\n",
        "\n",
        "*   conv(A → B) = 1 − S(B) / [1 − conf(A → B)] = [(1 - S(A ∪ B)) / S(A)] / [(1 - S(B)) / S(A ∪ B)]\n",
        "*   conv(B → A) = 1 − S(A) / [1 − conf(B → A)] = [(1 - S(A ∪ B)) / S(B)] / [(1 - S(A)) / S(A ∪ B)]\n",
        "*   Do đó, conv(A → B) = conv(B → A)\n",
        "\n",
        "\n",
        "Để chứng minh rằng chỉ số tăng trưởng không đối xứng, chúng ta có thể sử dụng một ví dụ đơn giản:\n",
        "\n",
        "*   Giả sử có 50 giao dịch trong số 100 chứa phần tử A và 60 giao dịch trong số 100 chứa phần tử B.\n",
        "*   giả định rằng 40 giao dịch chứa cả A và B.\n",
        "*   Khi đó, lift(A → B) = conf(A → B) / S(B) = 0.67 / 0.6 = 1.11\n",
        "*   Tuy nhiên, lift(B → A) = conf(B → A) / S(A) = 0.67 / 0.5 = 1.33\n",
        "*   Vì 1.11 không bằng 1.33, chúng ta thấy rằng lift không đối xứng.\n"
      ]
    },
    {
      "cell_type": "markdown",
      "metadata": {
        "id": "bXeTrAM-lhT5"
      },
      "source": [
        "**(c)**\n",
        "\n",
        "Chỉ tiêu tăng trưởng (lift) và chỉ số thuyết phục (conviction) đều có tính chất này vì cả hai chỉ tiêu đạt giá trị tối đa của chúng cho tất cả các liên hệ hoàn hảo (perfect implications).\n",
        "\n",
        "\n",
        "Ví dụ, giả sử chúng ta có luật hoàn hảo A → B và chúng ta tính toán các chỉ tiêu tương ứng. Nếu conf(A → B) hoặc conv(A → B) đạt giá trị tối đa của chúng (là 1), thì chúng ta nói là chỉ tiêu là mong muốn. Vì lift không đạt được giá trị tối đa đối với các liên hệ hoàn hảo (vì S(B) có thể bằng 0), nên nó không đáp ứng tính chất này.\n",
        "\n",
        "\n",
        "Ứng dụng trong đề xuất sản phẩm: Từ khóa khuyến nghị sản phẩm là một trong những ví dụ về việc bán hàng chéo (cross-selling) thường được sử dụng bởi các nhà bán lẻ trực tuyến. Một phương pháp đơn giản để đưa ra đề xuất sản phẩm là đề xuất các sản phẩm đã được duyệt cùng nhau thường xuyên bởi khách hàng.\n",
        "\n",
        "\n",
        "Để tìm ra các sản phẩm được duyệt cùng nhau thường xuyên, chúng ta có thể sử dụng thuật toán A-priori. Chương trình tìm kiếm sản phẩm cùng được trình bày trong đề bài có thể được lập trình bằng ngôn ngữ lập trình của bạn. \n",
        "\n",
        "\n",
        "Để tìm các sản phẩm đáng kể, chúng ta sẽ đặt giá trị hỗ trợ (support) bằng 100, và tìm các bộ mặt hàng có kích thước là 2 và 3. Chú ý rằng một vài hàng chứa các sản phẩm trùng lặp, nhưng chúng ta có thể bỏ qua các sản phẩm trùng lặp này.\n",
        "\n"
      ]
    },
    {
      "cell_type": "markdown",
      "metadata": {
        "id": "jdt3uxYlCUTR"
      },
      "source": [
        "# **2 (d)**"
      ]
    },
    {
      "cell_type": "code",
      "execution_count": 9,
      "metadata": {
        "id": "MD6f4ReVGs5_",
        "colab": {
          "base_uri": "https://localhost:8080/",
          "height": 17
        },
        "outputId": "3bec48b2-7324-4aeb-f282-1a39c7491515"
      },
      "outputs": [
        {
          "output_type": "display_data",
          "data": {
            "text/plain": [
              "<IPython.core.display.Javascript object>"
            ],
            "application/javascript": [
              "google.colab.output.setIframeHeight(0, true, {maxHeight: 400})"
            ]
          },
          "metadata": {}
        }
      ],
      "source": [
        "# Importing libraries\n",
        "from collections import defaultdict\n",
        "from itertools import combinations\n",
        "from operator import itemgetter"
      ]
    },
    {
      "cell_type": "code",
      "execution_count": 10,
      "metadata": {
        "colab": {
          "base_uri": "https://localhost:8080/",
          "height": 17
        },
        "id": "IG53-D8KHbkp",
        "outputId": "9e4d280c-022a-420d-9b63-463767f4fcbd"
      },
      "outputs": [
        {
          "output_type": "display_data",
          "data": {
            "text/plain": [
              "<IPython.core.display.Javascript object>"
            ],
            "application/javascript": [
              "google.colab.output.setIframeHeight(0, true, {maxHeight: 400})"
            ]
          },
          "metadata": {}
        }
      ],
      "source": [
        "# Load dataset and remove duplicates\n",
        "data = []\n",
        "with open('/content/drive/MyDrive/browsing.txt', 'r') as f:\n",
        "    for line in f:\n",
        "        items = set(line.strip().split())\n",
        "        data.append(list(items))"
      ]
    },
    {
      "cell_type": "code",
      "execution_count": 11,
      "metadata": {
        "colab": {
          "base_uri": "https://localhost:8080/",
          "height": 17
        },
        "id": "zos0RcMkHrOb",
        "outputId": "6f2c30a4-d4d0-4cda-dbc2-4ba4ec865b78"
      },
      "outputs": [
        {
          "output_type": "display_data",
          "data": {
            "text/plain": [
              "<IPython.core.display.Javascript object>"
            ],
            "application/javascript": [
              "google.colab.output.setIframeHeight(0, true, {maxHeight: 400})"
            ]
          },
          "metadata": {}
        }
      ],
      "source": [
        "# First pass to find frequent items\n",
        "min_support = 100 # define minimum support\n",
        "item_counts = defaultdict(int)\n",
        "for basket in data:\n",
        "    for item in basket:\n",
        "        item_counts[item] += 1\n",
        "frequent_items = set(item for item, count in item_counts.items() if count >= min_support)"
      ]
    },
    {
      "cell_type": "code",
      "execution_count": 12,
      "metadata": {
        "colab": {
          "base_uri": "https://localhost:8080/",
          "height": 17
        },
        "id": "uhD2tOTG7aV2",
        "outputId": "bff377e8-fcc0-42a3-f56c-701d38d9ec53"
      },
      "outputs": [
        {
          "output_type": "display_data",
          "data": {
            "text/plain": [
              "<IPython.core.display.Javascript object>"
            ],
            "application/javascript": [
              "google.colab.output.setIframeHeight(0, true, {maxHeight: 400})"
            ]
          },
          "metadata": {}
        }
      ],
      "source": [
        "# Second pass to find frequent itemsets of size 2\n",
        "itemset_counts = defaultdict(int)\n",
        "for basket in data:\n",
        "    for itemset in combinations(basket, 2):\n",
        "        if set(itemset).issubset(frequent_items):\n",
        "            itemset_counts[itemset] += 1\n",
        "frequent_itemsets = set(itemset for itemset, count in itemset_counts.items() if count >= min_support)"
      ]
    },
    {
      "cell_type": "code",
      "execution_count": 13,
      "metadata": {
        "colab": {
          "base_uri": "https://localhost:8080/",
          "height": 17
        },
        "id": "4uYqXQKl7eQP",
        "outputId": "dd5426ad-9f14-47f3-8cf6-e62623022391"
      },
      "outputs": [
        {
          "output_type": "display_data",
          "data": {
            "text/plain": [
              "<IPython.core.display.Javascript object>"
            ],
            "application/javascript": [
              "google.colab.output.setIframeHeight(0, true, {maxHeight: 400})"
            ]
          },
          "metadata": {}
        }
      ],
      "source": [
        "# Generate association rules for pairs of items\n",
        "rules = []\n",
        "for itemset in frequent_itemsets:\n",
        "    for item in itemset:\n",
        "        antecedent = frozenset([item])\n",
        "        consequent = frozenset(frozenset(itemset) - antecedent)\n",
        "        confidence = itemset_counts[itemset] / item_counts[item]\n",
        "        rules.append((antecedent, consequent, confidence))"
      ]
    },
    {
      "cell_type": "code",
      "execution_count": 14,
      "metadata": {
        "colab": {
          "base_uri": "https://localhost:8080/",
          "height": 104
        },
        "id": "szK26YvS7kQ3",
        "outputId": "93c3c123-beb2-487f-8b75-881d58d6e0c8"
      },
      "outputs": [
        {
          "output_type": "display_data",
          "data": {
            "text/plain": [
              "<IPython.core.display.Javascript object>"
            ],
            "application/javascript": [
              "google.colab.output.setIframeHeight(0, true, {maxHeight: 400})"
            ]
          },
          "metadata": {}
        },
        {
          "output_type": "stream",
          "name": "stdout",
          "text": [
            "('GRO38636',) -> ('FRO40251',) : 0.9906542056074766\n",
            "('FRO92469',) -> ('FRO40251',) : 0.983510011778563\n",
            "('DAI23334',) -> ('DAI62779',) : 0.9545454545454546\n",
            "('DAI43868',) -> ('SNA82528',) : 0.8006756756756757\n",
            "('DAI93865',) -> ('FRO40251',) : 0.7788461538461539\n"
          ]
        }
      ],
      "source": [
        "# Sort rules by confidence and print top 5\n",
        "top_rules = sorted(rules, key=lambda x: (-x[2], tuple(x[0])))\n",
        "for antecedent, consequent, confidence in top_rules[:5]:\n",
        "    print(f\"{tuple(antecedent)} -> {tuple(consequent)} : {confidence}\")\n"
      ]
    },
    {
      "cell_type": "markdown",
      "metadata": {
        "id": "K3VHGbTBCXuZ"
      },
      "source": [
        "# **2 (e)**"
      ]
    },
    {
      "cell_type": "code",
      "execution_count": 15,
      "metadata": {
        "colab": {
          "base_uri": "https://localhost:8080/",
          "height": 17
        },
        "id": "ucGPbunH5HZi",
        "outputId": "0bb089ef-0d3f-44b7-a198-6893f71740bf"
      },
      "outputs": [
        {
          "output_type": "display_data",
          "data": {
            "text/plain": [
              "<IPython.core.display.Javascript object>"
            ],
            "application/javascript": [
              "google.colab.output.setIframeHeight(0, true, {maxHeight: 400})"
            ]
          },
          "metadata": {}
        }
      ],
      "source": [
        "# Load dataset and remove duplicates\n",
        "data = []\n",
        "with open('/content/drive/MyDrive/browsing.txt', 'r') as f:\n",
        "    for line in f:\n",
        "        items = set(line.strip().split())\n",
        "        data.append(list(items))"
      ]
    },
    {
      "cell_type": "code",
      "execution_count": 16,
      "metadata": {
        "colab": {
          "base_uri": "https://localhost:8080/",
          "height": 17
        },
        "id": "Mq0spNcF5Lnr",
        "outputId": "5ab92f63-de1c-42b3-8fc0-8c2baa5473aa"
      },
      "outputs": [
        {
          "output_type": "display_data",
          "data": {
            "text/plain": [
              "<IPython.core.display.Javascript object>"
            ],
            "application/javascript": [
              "google.colab.output.setIframeHeight(0, true, {maxHeight: 400})"
            ]
          },
          "metadata": {}
        }
      ],
      "source": [
        "# First pass to find frequent items\n",
        "min_support = 100\n",
        "item_counts = defaultdict(int)\n",
        "for basket in data:\n",
        "    for item in basket:\n",
        "        item_counts[item] += 1\n",
        "frequent_items = set(item for item, count in item_counts.items() if count >= min_support)"
      ]
    },
    {
      "cell_type": "code",
      "execution_count": 17,
      "metadata": {
        "colab": {
          "base_uri": "https://localhost:8080/",
          "height": 17
        },
        "id": "Mfgtywyl5N4q",
        "outputId": "7c882fef-88c6-4097-bed4-3f37ac86b25e"
      },
      "outputs": [
        {
          "output_type": "display_data",
          "data": {
            "text/plain": [
              "<IPython.core.display.Javascript object>"
            ],
            "application/javascript": [
              "google.colab.output.setIframeHeight(0, true, {maxHeight: 400})"
            ]
          },
          "metadata": {}
        }
      ],
      "source": [
        "# Second pass to find frequent itemsets of size 3\n",
        "itemset_counts = defaultdict(int)\n",
        "for basket in data:\n",
        "    for itemset in combinations(basket, 3):\n",
        "        if set(itemset).issubset(frequent_items):\n",
        "            itemset_counts[itemset] += 1\n",
        "frequent_itemsets = set(itemset for itemset, count in itemset_counts.items() if count >= min_support)"
      ]
    },
    {
      "cell_type": "code",
      "execution_count": 18,
      "metadata": {
        "colab": {
          "base_uri": "https://localhost:8080/",
          "height": 17
        },
        "id": "hr19gvhK5QTS",
        "outputId": "7edae817-6685-4d1b-ecfd-0400b82d8159"
      },
      "outputs": [
        {
          "output_type": "display_data",
          "data": {
            "text/plain": [
              "<IPython.core.display.Javascript object>"
            ],
            "application/javascript": [
              "google.colab.output.setIframeHeight(0, true, {maxHeight: 400})"
            ]
          },
          "metadata": {}
        }
      ],
      "source": [
        "# Generate association rules for pairs of items\n",
        "rules = []\n",
        "for itemset in frequent_itemsets:\n",
        "    for item in itemset:\n",
        "        antecedent = frozenset([item])\n",
        "        consequent = frozenset(frozenset(itemset) - antecedent)\n",
        "        confidence = itemset_counts[itemset] / item_counts[item]\n",
        "        rules.append((antecedent, consequent, confidence))"
      ]
    },
    {
      "cell_type": "code",
      "execution_count": 19,
      "metadata": {
        "colab": {
          "base_uri": "https://localhost:8080/",
          "height": 104
        },
        "id": "4yn2y5pbCbym",
        "outputId": "aa0b8513-1594-45c0-c17c-8fee0e8ac0e1"
      },
      "outputs": [
        {
          "output_type": "display_data",
          "data": {
            "text/plain": [
              "<IPython.core.display.Javascript object>"
            ],
            "application/javascript": [
              "google.colab.output.setIframeHeight(0, true, {maxHeight: 400})"
            ]
          },
          "metadata": {}
        },
        {
          "output_type": "stream",
          "name": "stdout",
          "text": [
            "('FRO92469',) -> ('FRO40251', 'SNA80324') : 0.4040047114252061\n",
            "('SNA18336',) -> ('ELE92920', 'DAI62779') : 0.34132581100141046\n",
            "('ELE20847',) -> ('FRO40251', 'SNA80324') : 0.28361858190709044\n",
            "('SNA18336',) -> ('ELE92920', 'DAI62779') : 0.2679830747531735\n",
            "('SNA59903',) -> ('ELE17451', 'DAI62779') : 0.22671156004489337\n"
          ]
        }
      ],
      "source": [
        "# Sort rules by confidence and print top 5\n",
        "top_rules = sorted(rules, key=lambda x: (-x[2], tuple(x[0])))\n",
        "for antecedent, consequent, confidence in top_rules[:5]:\n",
        "    print(f\"{tuple(antecedent)} -> {tuple(consequent)} : {confidence}\")"
      ]
    },
    {
      "cell_type": "markdown",
      "metadata": {
        "id": "DRPahN4ZS4y8"
      },
      "source": [
        "# QUESTION 3: LOCALITY-SENSITIVE HASHING"
      ]
    },
    {
      "cell_type": "markdown",
      "metadata": {
        "id": "mMzoVN-Ek-7f"
      },
      "source": [
        "**(a)**\n",
        "\n",
        "Giả sử có một cột chứa m giá trị 1 và do đó cột này còn lại có n - m giá trị 0. Chúng ta chọn ngẫu nhiên k hàng để tính toán minhash cho cột này. Ta cần chứng minh rằng xác suất để thu được giá trị \"không biết\" (tức là minhash đối với cột này là \"không biết\") là không quá ((n - k) / n) ^ m.\n",
        "\n",
        "Để tính xác suất đó, ta cần tính xác suất để không có hàng nào trong các k hàng chúng ta chọn có giá trị 1 trong cột này.\n",
        "\n",
        "Xác suất để lấy được một hàng có giá trị 1 trong cột này là m/n, vì có m giá trị 1 trong n giá trị tổng thể. Do đó, xác suất để một hàng không có giá trị 1 trong cột này là (n - m) / n.\n",
        "\n",
        "Vì chúng ta đã chọn ra k hàng để xét, xác suất để tất cả k hàng đều không có giá trị 1 trong cột này là ((n - m) / n) ^ k. Và vì thuật toán minhash trả về giá trị \"không biết\" nếu tất cả k hàng đều có giá trị 0 trong cột này, xác suất của việc này chính là ((n-k)/n)^m.\n",
        "\n",
        "Kết hợp lại, ta thu được kết luận rằng xác suất để thu được giá trị \"không biết\" đó là không quá ((n-k)/n)^m."
      ]
    },
    {
      "cell_type": "markdown",
      "metadata": {
        "id": "Bov100HwlJp_"
      },
      "source": [
        "**(b)**\n",
        "\n",
        "Chúng ta muốn xác suất của \"không biết\" không quá e^(-10), điều đó có nghĩa:\n",
        "\n",
        "((n-k) / n) ^ m ≤ e^(-10)\n",
        "\n",
        "Lấy logarithm tự nhiên 2 vế, ta có:\n",
        "\n",
        "m * ln((n-k) / n) ≤ -10\n",
        "\n",
        "ln((n-k) / n) ≤ -10 / m\n",
        "\n",
        "(n-k) / n ≤ e^(-10 / m)\n",
        "\n",
        "n - k ≤ n * e^(-10 / m)\n",
        "\n",
        "k ≥ n * (1 - e^(-10 / m))\n",
        "\n",
        "Vì n lớn hơn rất nhiều so với m hoặc k, nên ta có thể giả sử e^(-10 / m) là một lượng rất nhỏ. Sử dụng gợi ý từ câu hỏi, ta có thể xấp xỉ (1 - e^(-10/m)) bằng 1/e. Vì vậy:\n",
        "\n",
        "k ≥ n / e\n",
        "\n",
        "Vì vậy, giá trị nhỏ nhất của k để đảm bảo xác suất của \"không biết\" không quá e^(-10) là khoảng n / e."
      ]
    },
    {
      "cell_type": "markdown",
      "metadata": {
        "id": "u_Jj-RtLlWvp"
      },
      "source": [
        "**(c)**\n",
        "\n",
        "***a)*** Xét ma trận sau đây với hai cột:\n",
        "\n",
        "        | A | B |\n",
        "    S1: | 1 | 1 |\n",
        "    S2: | 0 | 1 |\n",
        "    S3: | 1 | 0 |\n",
        "\n",
        "***b)*** Tương đồng Jaccard của S1 và S2:\n",
        "\n",
        "*   S1 giao S2 = {1}, S1 hợp S2 = {0, 1}.\n",
        "*   Vì vậy Jaccard tương đồng = |S1 giao S2| / |S1 hợp S2| = 1/2.\n",
        "\n",
        "***c)***  Xác suất của một chuỗi hoán vị vòng tròn ngẫu nhiên cho giá trị minhash giống nhau cho cả S1 và S2:\n",
        "\n",
        "*   Chỉ có 3 hoán vị vòng tròn có thể: (S1 S2 S3), (S2 S3 S1), và (S3 S1 S2).\n",
        "*   Với mỗi hoán vị cuộn vòng, ta tính chữ ký minhash của S1 và S2 bằng cách bắt đầu từ một hàng được chọn ngẫu nhiên và theo thứ tự hoán vị cuộn vòng.\n",
        "*   Chữ ký minhash kết quả cho S1 và S2 như sau:\n",
        "\n",
        "Permutation 1: (S1 S2 S3)\n",
        "\n",
        "minhash(S1) = 1-0-1\n",
        "\n",
        "minhash(S2) = 1-1-0\n",
        "\n",
        "Permutation 2: (S2 S3 S1)\n",
        "\n",
        "minhash(S1) = 1-1-1\n",
        "\n",
        "minhash(S2) = 0-1-1\n",
        "\n",
        "Permutation 3: (S3 S1 S2)\n",
        "\n",
        "minhash(S1) = 1-1-0\n",
        "\n",
        "minhash(S2) = 0-0-1\n",
        "\n",
        "*   Ta thấy chỉ có trong hoán vị 1, giá trị minhash cho S1 và S2 giống nhau (tức là 1-0-1 và 1-1-0). Do đó, xác suất của một chuỗi hoán vị vòng tròn ngẫu nhiên cho giá trị minhash giống nhau cho cả S1 và S2 là 1/3, không bằng với tương đồng Jaccard là 1/2.\n",
        "*   Ví dụ này cho thấy các hoán vị vòng tròn không đủ để ước lượng tương đồng Jaccard một cách chính xác.\n"
      ]
    },
    {
      "cell_type": "markdown",
      "metadata": {
        "id": "O53lqUZWhC1r"
      },
      "source": [
        "# QUESTION 4: LSH FOR APPROXIMATE NEAR NEIGHBOR SEARCH "
      ]
    },
    {
      "cell_type": "markdown",
      "metadata": {
        "id": "kkK2Ua430pkc"
      },
      "source": [
        "**(a)**\n",
        "\n",
        "Để chứng minh bất đẳng thức trên, chúng ta sử dụng định lý Chernoff.\n",
        "\n",
        "Giả sử X là biến ngẫu nhiên đếm số lượng điểm dữ liệu trong WJ (1 ≤ J ≤ L) có khoảng cách lớn hơn cλ so với điểm truy vấn z. Sau đó X có phân phối nhị thức với các thông số n = |WJ| và p = Pr[d(x, z) > cλ].\n",
        "\n",
        "Theo định nghĩa của T, chúng ta có |T ∩ WJ| ≤ X cho tất cả 1 ≤ J ≤ L. Do đó, ta có:\n",
        "\n",
        "*   |T ∩ WJ| ≤ X ⇒ ∑_{J=1}^L|T ∩ WJ| ≤ ∑_{J=1}^LX\n",
        "\n",
        "Chúng ta muốn tìm một giới hạn trên cho xác suất tổng các biến ngẫu nhiên X1, X2, ..., XL vượt quá một ngưỡng nào đó. Sử dụng định lý Chernoff, ta có:\n",
        "\n",
        "\n",
        "*   Pr[ ∑_{J=1}^L XJ ≥ 3L ] ≤ exp(-λL) * E[e^(λ ∑_{J=1}^L XJ)]\n",
        "\n",
        "trong đó λ > 0 là một tham số sẽ được chọn sau.\n",
        "\n",
        "Bây giờ chúng ta cần tính hàm sinh moment (mgf) của XJ. Với phân phối nhị thức có thông số n và p, hàm sinh moment được cho bởi:\n",
        "\n",
        "*   M_X(t) = E[e^(tX)] = (1-p + pe^t)^n\n",
        "\n",
        "Trong trường hợp của chúng ta, ta có n = |WJ| và p = Pr[d(x, z) > cλ]. Vì vậy, chúng ta có:\n",
        "\n",
        "*   M_X(t) = E[e^(tX)] = (1-p + pe^t)^{|WJ|}\n",
        "\n",
        "Sử dụng biểu thức trên, ta có thể tính được hàm sinh moment của ∑_{J=1}^L XJ:\n",
        "\n",
        "*   M_Y(t) = E[e^(t ∑_{J=1}^L XJ)] = ∏_{J=1}^L E[e^(tXJ)] = ∏_{J=1}^L M_X(t)\n",
        "\n",
        "Bây giờ ta có thể sử dụng hàm sinh moment này trong bất đẳng thức Chernoff:\n",
        "\n",
        "Pr[ ∑_{J=1}^L XJ ≥ 3L ] ≤ exp(-λL) * E[e^(λ ∑_{J=1}^L XJ)]\n",
        "\n",
        "≤ exp(-λL) * M_Y(λ)\n",
        "\n",
        "≤ exp(-λL) * ∏_{J=1}^L M_X(λ)\n",
        "\n",
        "\n",
        "Lấy logarithm tự nhiên của cả hai giới hạn và tiếp tục đơn giản hóa, ta có:\n",
        "\n",
        "*   ln Pr[ ∑_{J=1}^L XJ ≥ 3L ] ≤ -λL + ∑_{J=1}^L ln M_X(λ)\n",
        "\n",
        "Chúng ta cần chọn λ để giới hạn trên đạt giá trị nhỏ nhất. Để làm được điều này, chúng ta lấy đạo hàm của giới hạn bên phải theo λ, và cho nó bằng không:\n",
        "\n",
        "*   d/dλ ( -λL + ∑_{J=1}^L ln M_X(λ) ) = -L + ∑_{J=1}^L d/dλ ln M_X(λ) = 0\n",
        "\n",
        "Giải phương trình trên cho λ, ta có:\n",
        "\n",
        "*   λ = (1/L) ∑_{J=1}^L ln(1/pJ)\n",
        "\n",
        "Thay giá trị λ này vào giới hạn, ta có:\n",
        "\n",
        "*   Pr[ ∑_{J=1}^L XJ ≥ 3L ] ≤ exp(-∑_{J=1}^L ln(1/pJ) + ln(3))\n",
        "\n",
        "Sau khi đơn giản hóa, ta có:\n",
        "\n",
        "*   Pr[ ∑_{J=1}^L XJ ≥ 3L ] ≤ 1/3 * ∏_{J=1}^L (1/pJ)^{pJ} * 3\n",
        "\n",
        "Vì log(1/x) ≥ (1-x) với 0 < x < 1, ta có:\n",
        "\n",
        "*   ∑_{J=1}^L ln(1/pJ) = ∑_{J=1}^L log(1/pJ)\n",
        "*   ≥ ∑_{J=1}^L (1-pJ)\n",
        "*   = L - ∑_{J=1}^L pJ\n",
        "\n",
        "Thay vào bất đẳng thức trên, ta có:\n",
        "\n",
        "*   Pr[ ∑_{J=1}^L XJ ≥ 3L ] ≤ 1/3 * ∏_{J=1}^L (1/pJ)^{pJ} * 3\n",
        "*   ≤ 1/3 * exp(-L + ∑_{J=1}^L pJ) * 3\n",
        "*   ≤ 1/3\n",
        "\n",
        "Do đó, chúng ta đã chứng minh được rằng:\n",
        "\n",
        "*   Pr[∑_{J=1}^L |T ∩ WJ| ≥ 3L] ≤ 1/3"
      ]
    },
    {
      "cell_type": "markdown",
      "metadata": {
        "id": "CQutJ3AX81II"
      },
      "source": [
        "**(b)**\n",
        "Vì d(x∗, z) ≤ λ, cho nên đối với bất kỳ 1 ≤ j ≤ L, chúng ta có Pr [gj(x∗) = gj(z)] ≥ pk1, và do đó Pr [gj(x∗) ≠ gj(z)] ≤ 1 − pk1 = 1 - 1/L, trong đó phương trình cuối cùng được tính bằng pk1 = plog1/p2(n)1 = n−log(1/p1)log(1/p2) = n−ρ = L−1.\n",
        "\n",
        "Sau đó, do tính độc lập của các gj, ta có: Pr [∀1≤j≤L, gj(x∗) ≠ gj(z)] ≤ (1 - 1/L)L ≤ 1/e.\n"
      ]
    },
    {
      "cell_type": "markdown",
      "metadata": {
        "id": "cUaWtkHE838g"
      },
      "source": [
        "**(c)**\n",
        "\n",
        "Từ hai bất đẳng thức, Pr[∑_{j=1}^L |T∩Wj| ≥ 3L] ≤ 1/3 và Pr[∀1≤j≤L, gj(x*)≠gj(z)] < 1/e, ta có thể kết luận rằng với xác suất không nhỏ hơn 2/3e, tức là một hằng số cố định, điểm được báo cáo x * là một (c, λ)-ANN thực sự của z trong T.\n",
        "\n",
        "Để chứng minh điều này, giả sử rằng điểm được báo cáo x * không phải là một (c, λ)-ANN thực sự của z trong T. Theo định nghĩa của (c,λ)-ANN, ta có:\n",
        "\n",
        "*   Pr[d(x*,z)>cλ] < 1/L\n",
        "\n",
        "Áp dụng bất đẳng thức Markov cho biểu thức này, ta có:\n",
        "\n",
        "*   Pr[d(x*,z)>cλ] < E[d(x*,z)]/(cλ) = 1/(cλ)\n",
        "\n",
        "Vì vậy:\n",
        "\n",
        "*   Pr[d(x*,z)≤cλ] ≥ 1 - 1/(cλ) ≥ 1 - cλ\n",
        "\n",
        "Do đó, ta có:\n",
        "\n",
        "*   Pr[∀1≤j≤L, gj(x*)≠gj(z)]\n",
        "*   ≤ ∑_{j=1}^L Pr[|fj(x*)-fj(z)|>0]\n",
        "*   ≤ ∑_{j=1}^L Pr[d(x*,z)>cλ]\n",
        "*   ≤ LPr[d(x*,z)>cλ]\n",
        "*   < 1\n",
        "\n",
        "Điều này dẫn đến mâu thuẫn với bất đẳng thức Pr[∀1≤j≤L, gj(x*)≠gj(z)] < 1/e. Vì vậy, giả định ban đầu là sai và với xác suất không nhỏ hơn 2/3e, điểm được báo cáo x * là một (c, λ)-ANN thực sự của z trong T, tức là điểm mà có khoảng cách đến z không vượt quá cλ."
      ]
    },
    {
      "cell_type": "markdown",
      "metadata": {
        "id": "BN-G8yUA87le"
      },
      "source": [
        "# **4 (d)**"
      ]
    },
    {
      "cell_type": "code",
      "source": [
        "!pip install lsh"
      ],
      "metadata": {
        "colab": {
          "base_uri": "https://localhost:8080/",
          "height": 86
        },
        "id": "WEHmuifc3qaz",
        "outputId": "408b7df2-fb5e-4fcd-938a-57e80d6b198a"
      },
      "execution_count": 39,
      "outputs": [
        {
          "output_type": "display_data",
          "data": {
            "text/plain": [
              "<IPython.core.display.Javascript object>"
            ],
            "application/javascript": [
              "google.colab.output.setIframeHeight(0, true, {maxHeight: 400})"
            ]
          },
          "metadata": {}
        },
        {
          "output_type": "stream",
          "name": "stdout",
          "text": [
            "Looking in indexes: https://pypi.org/simple, https://us-python.pkg.dev/colab-wheels/public/simple/\n",
            "Requirement already satisfied: lsh in /usr/local/lib/python3.9/dist-packages (0.1.2)\n",
            "Requirement already satisfied: numpy in /usr/local/lib/python3.9/dist-packages (from lsh) (1.22.4)\n",
            "Requirement already satisfied: bitarray in /usr/local/lib/python3.9/dist-packages (from lsh) (2.7.3)\n"
          ]
        }
      ]
    },
    {
      "cell_type": "code",
      "source": [
        "from lsh import *\n",
        "import time\n",
        "from tabulate import tabulate\n",
        "import matplotlib.pyplot as plt"
      ],
      "metadata": {
        "colab": {
          "base_uri": "https://localhost:8080/",
          "height": 17
        },
        "id": "HA45kONz2TB9",
        "outputId": "8bcf8b9e-a7e9-4ea1-9b44-980dd6c5e934"
      },
      "execution_count": 40,
      "outputs": [
        {
          "output_type": "display_data",
          "data": {
            "text/plain": [
              "<IPython.core.display.Javascript object>"
            ],
            "application/javascript": [
              "google.colab.output.setIframeHeight(0, true, {maxHeight: 400})"
            ]
          },
          "metadata": {}
        }
      ]
    },
    {
      "cell_type": "code",
      "source": [
        "# Load the dataset\n",
        "A = np.loadtxt('/content/drive/MyDrive/patches.csv', delimiter=',')"
      ],
      "metadata": {
        "colab": {
          "base_uri": "https://localhost:8080/",
          "height": 17
        },
        "id": "pIqzpwYc5uyl",
        "outputId": "e4c16ae6-1798-4798-c02d-21701093e97f"
      },
      "execution_count": 46,
      "outputs": [
        {
          "output_type": "display_data",
          "data": {
            "text/plain": [
              "<IPython.core.display.Javascript object>"
            ],
            "application/javascript": [
              "google.colab.output.setIframeHeight(0, true, {maxHeight: 400})"
            ]
          },
          "metadata": {}
        }
      ]
    },
    {
      "cell_type": "code",
      "source": [
        "# Defining the indices of the patches we want to search\n",
        "query_indices = range(100, 1100, 100)\n",
        "print(\"Query points: {}\".format([i for i in query_indices]))\n",
        "\n",
        "# Define LSH parameters\n",
        "L = 10\n",
        "k = 24\n",
        "num_neighbors = 3\n"
      ],
      "metadata": {
        "colab": {
          "base_uri": "https://localhost:8080/",
          "height": 34
        },
        "id": "MIjJ0RXH1u9j",
        "outputId": "17126862-ed26-423d-dab6-f57915c977b9"
      },
      "execution_count": 47,
      "outputs": [
        {
          "output_type": "display_data",
          "data": {
            "text/plain": [
              "<IPython.core.display.Javascript object>"
            ],
            "application/javascript": [
              "google.colab.output.setIframeHeight(0, true, {maxHeight: 400})"
            ]
          },
          "metadata": {}
        },
        {
          "output_type": "stream",
          "name": "stdout",
          "text": [
            "Query points: [100, 200, 300, 400, 500, 600, 700, 800, 900, 1000]\n"
          ]
        }
      ]
    },
    {
      "cell_type": "code",
      "source": [
        "# Run LSH setup\n",
        "functions, hashed_A = lsh_setup(A, k=k, L=L)"
      ],
      "metadata": {
        "id": "HQJqc0nR6ZeS"
      },
      "execution_count": null,
      "outputs": []
    },
    {
      "cell_type": "code",
      "source": [
        "# Perform LSH and linear search\n",
        "lsh_search_times = [] # Time taken to run LSH search\n",
        "linear_search_times = [] # Time taken to run linear search\n",
        "lsh_neighbors_list = [] # List of LSH neighbors\n",
        "linear_neighbors_list = [] # List of linear neighbors\n",
        "\n",
        "for query_index in query_indices:\n",
        "    # Run LSH search\n",
        "    start_time = time.time()\n",
        "    lsh_neighbors = lsh_search(A, hashed_A, functions, query_index, num_neighbors=num_neighbors)\n",
        "    lsh_neighbors_list.append(lsh_neighbors)\n",
        "    lsh_search_times.append(time.time() - start_time)\n",
        "    \n",
        "    # Run linear search\n",
        "    start_time = time.time()\n",
        "    linear_neighbors = linear_search(A, query_index, num_neighbors=num_neighbors)\n",
        "    linear_neighbors_list.append(linear_neighbors)\n",
        "    linear_search_times.append(time.time() - start_time)"
      ],
      "metadata": {
        "id": "Ia25Gs0t6aao"
      },
      "execution_count": null,
      "outputs": []
    },
    {
      "cell_type": "code",
      "source": [
        "# Print results\n",
        "print(\"LSH Average Search Time: {:.4f} seconds\".format(np.mean(lsh_search_times)))\n",
        "print(\"Linear Average Search Time: {:.4f} seconds\".format(np.mean(linear_search_times)))\n",
        "\n",
        "headers = ['Query Index', 'LSH Neighbors', 'Linear Neighbors']\n",
        "table = []\n",
        "for i in range(len(query_indices)):\n",
        "    table.append([query_indices[i], \n",
        "                  \", \".join(map(str, lsh_neighbors_list[i])), \n",
        "                  \", \".join(map(str, linear_neighbors_list[i]))])\n",
        "\n",
        "print(\"Top 3 Neighbors for Each Query Point:\")\n",
        "print(tabulate(table, headers=headers, tablefmt='fancy_grid'))"
      ],
      "metadata": {
        "id": "D9j1Lz8V6biE"
      },
      "execution_count": null,
      "outputs": []
    }
  ],
  "metadata": {
    "colab": {
      "toc_visible": true,
      "provenance": []
    },
    "kernelspec": {
      "display_name": "Python 3",
      "name": "python3"
    },
    "language_info": {
      "name": "python"
    }
  },
  "nbformat": 4,
  "nbformat_minor": 0
}